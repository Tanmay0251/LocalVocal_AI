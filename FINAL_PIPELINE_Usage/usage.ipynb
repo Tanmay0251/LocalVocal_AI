{
 "cells": [
  {
   "cell_type": "markdown",
   "metadata": {},
   "source": [
    "# Taking input for path "
   ]
  },
  {
   "cell_type": "code",
   "execution_count": 1,
   "metadata": {},
   "outputs": [],
   "source": [
    "path = input('Enter the absolute path to the folder FINAL_PIPELINE_Usage: ')"
   ]
  },
  {
   "cell_type": "code",
   "execution_count": 2,
   "metadata": {},
   "outputs": [],
   "source": [
    "path_to_LocalVocal_AI = ''\n",
    "for i in path.split('/')[:-1]:\n",
    "    path_to_LocalVocal_AI += i + '/'"
   ]
  },
  {
   "cell_type": "code",
   "execution_count": 3,
   "metadata": {},
   "outputs": [],
   "source": [
    "import sys\n",
    "sys.path.append(path_to_LocalVocal_AI)\n",
    "from FINAL_PIPELINE import functions as f"
   ]
  },
  {
   "cell_type": "markdown",
   "metadata": {},
   "source": [
    "# interpret_image_with_AI"
   ]
  },
  {
   "cell_type": "code",
   "execution_count": 4,
   "metadata": {},
   "outputs": [],
   "source": [
    "describe_this_image_prompt = '''\n",
    "Describe the given image very detailedly.\n",
    "'''"
   ]
  },
  {
   "cell_type": "code",
   "execution_count": 5,
   "metadata": {},
   "outputs": [],
   "source": [
    "# sample image path\n",
    "img_path = path + '/1.jpg'"
   ]
  },
  {
   "cell_type": "code",
   "execution_count": 6,
   "metadata": {},
   "outputs": [
    {
     "name": "stdout",
     "output_type": "stream",
     "text": [
      "The image shows a white leather sectional sofa in a showroom. The sofa is made up of four backrests and two seats. One seat is longer and forms the chaise longue part of the sectional. The sofa has a slightly curved armrest on the left side and a straight armrest on the right side. The sofa has a light cream color and is very clean. The sofa sits on a concrete floor and is partially covered by a patterned rug. In the background, there are a few stacks of blankets in different colors and patterns. There is also a white plastic container and a person’s legs in blue jeans and black shoes in the background. The image was taken using a Samsung dual camera and the watermark is present on the bottom left corner of the image.\n"
     ]
    }
   ],
   "source": [
    "description = f.interpret_image_with_AI(describe_this_image_prompt, img_path)\n",
    "print(description)"
   ]
  },
  {
   "cell_type": "markdown",
   "metadata": {},
   "source": [
    "# enhance_business_overview_with_AI"
   ]
  },
  {
   "cell_type": "code",
   "execution_count": 7,
   "metadata": {},
   "outputs": [],
   "source": [
    "business_listing_prompt = \"\"\"\n",
    "{Business} is a local business operating from {Locality} in the city of {City}.  It belongs to {business_category} business category. \n",
    "They are facing significant challenges to survive in a booming online e-commerce market and have recently onboarded to a hyper-local advertising platform called LocalVocal.\n",
    "You have to act like their social media content writer and help them create grammatically correct and intelligible caption from the TEXT they will provide.\n",
    "Keep in mind that your generated caption will be used in a post description (possibly also containing 1 or more images) that will be published on the LocalVocal platform where thousands of hyper-local citizens will read the post and would like to contact the business for more details or placing an order. \n",
    "So transcribe their incoming text into an encouraging/exciting tone that is targetted towards the local audience that maximizes their chances of acquiring local business. Limit your description to a maximum of 200 characters. Use emojis as suitable but don’t overuse. \n",
    "At the end, you can add call-to-action for the reader to either visit the business’s online profile or call them or chat with them or explore their catalog. \n",
    "Select any 1 or 2 CTAs depending on the input text provided and don’t use all at once. \n",
    "The tone of the message should be encouraging enough so that the reader can be motivated to engage with this local business and increase their chances of surviving in an increasingly competitive e-commerce market.\n",
    "\n",
    "ABOUT THE BUSINESS:\n",
    "{Text}\n",
    "\n",
    "OUR PRODUCTS/SERVICES:\n",
    "{Products}\n",
    "\n",
    "CONTACT DETAILS:\n",
    "{Contact}\n",
    "\n",
    "WORKING HOURS:\n",
    "{Working_hours}\n",
    "\"\"\""
   ]
  },
  {
   "cell_type": "code",
   "execution_count": 8,
   "metadata": {},
   "outputs": [],
   "source": [
    "# sample input\n",
    "Business = \"Nirav Enterprises\"\n",
    "Locality = \"Shop no 1, LBS Road, Shreyas Signal, Ghatkopar West\"\n",
    "City = \"Ghatkopar West, Mumbai\" \n",
    "business_category = \"Retail\"\n",
    "Text = \"All types of decorations products, birthday decorations, packaging products and disposal cup plate and glass\"\n",
    "Products = \"Decorations products, Disposal cup Plate\"\n",
    "Contact = \"1234567890\"\n",
    "Working_hours = \"10am to 10pm\""
   ]
  },
  {
   "cell_type": "code",
   "execution_count": 9,
   "metadata": {},
   "outputs": [
    {
     "name": "stdout",
     "output_type": "stream",
     "text": [
      "🎉  Planning a birthday bash or need party supplies?  Look no further than Nirav Enterprises! 🎊  We've got all your decorations, disposables (cups, plates), and packaging needs covered.  Shop local and support your community!  🥳 \n",
      "\n",
      "Call us at 1234567890 for more details or to place your order! ☎️ \n",
      "\n"
     ]
    }
   ],
   "source": [
    "description = f.enhance_business_overview_with_AI(\n",
    "    business_listing_prompt,\n",
    "    Business=Business,\n",
    "    Locality=Locality,\n",
    "    City=City,\n",
    "    business_category=business_category,\n",
    "    Text=Text,\n",
    "    Products=Products,\n",
    "    Contact=Contact,\n",
    "    Working_hours=Working_hours\n",
    ")\n",
    "print(description)\n"
   ]
  },
  {
   "cell_type": "markdown",
   "metadata": {},
   "source": [
    "# enhance_post_caption_with_AI"
   ]
  },
  {
   "cell_type": "code",
   "execution_count": 10,
   "metadata": {},
   "outputs": [],
   "source": [
    "local_social_post_caption_prompt = '''\n",
    "{Business} is a local business in {business_category} category. \n",
    "They are facing significant challenges to survive in a booming online e-commerce market and have recently onboarded to a hyper-local advertising platform called LocalVocal.\n",
    "You have to act like their social media post enhancer and help them create a more engaging and exciting post from the TEXT they will provide.\n",
    "Keep in mind that your generated post will be used in a post description (possibly also containing 1 or more images) that will be published on the LocalVocal platform where thousands of hyper-local citizens will read the post and would like to contact the business for more details or placing an order.\n",
    "So transcribe their incoming text into an encouraging/exciting tone that is targetted towards the local audience that maximizes their chances of acquiring local business. \n",
    "Limit your description to a maximum of 200 characters. \n",
    "Use emojis as suitable but don’t overuse.\n",
    "\n",
    "TEXT:\n",
    "{description}\n",
    "'''"
   ]
  },
  {
   "cell_type": "code",
   "execution_count": 11,
   "metadata": {},
   "outputs": [],
   "source": [
    "# sample input\n",
    "Business = \"Nirav Enterprises\"  \n",
    "business_category = \"Retail\"\n",
    "description = '''\n",
    "🎉  Need to spice up your next party or event? 🎉 \n",
    "\n",
    "Nirav Enterprises in Ghatkopar West has everything you need for decorations, birthday bash supplies, and even disposable cups and plates! \n",
    "\n",
    "✨  Get ready to impress your guests! ✨\n",
    "\n",
    "Call us at 1234567890 to explore our awesome selection! \n",
    "'''"
   ]
  },
  {
   "cell_type": "code",
   "execution_count": 12,
   "metadata": {},
   "outputs": [
    {
     "name": "stdout",
     "output_type": "stream",
     "text": [
      "🎉 **Party planning in Ghatkopar West? Look no further than Nirav Enterprises!** 🎉 \n",
      "\n",
      "We've got everything you need to make your next event a blast - from dazzling decorations to party supplies & more! 🤩  Call us at 1234567890 to explore our awesome selection! ☎️ \n",
      "\n"
     ]
    }
   ],
   "source": [
    "enhanced_description = f.enhance_post_caption_with_AI(\n",
    "    local_social_post_caption_prompt,\n",
    "    Business=Business,\n",
    "    business_category=business_category,\n",
    "    description=description\n",
    ")\n",
    "print(enhanced_description)"
   ]
  },
  {
   "cell_type": "markdown",
   "metadata": {},
   "source": [
    "# suggest_AI_img_prompt_for_profile_gallery  \n",
    "# suggest_AI_img_prompt_for_profile_logo\n",
    "both are same only prompt different"
   ]
  },
  {
   "cell_type": "code",
   "execution_count": 13,
   "metadata": {},
   "outputs": [],
   "source": [
    "business_image_gallery_prompt = '''\n",
    "You are a image generation prompt writer from a given description. \n",
    "The prompt will be then given to a DALL-E model to generate an image of some product/service offered by that business. \n",
    "Describe everything that you want to be in the image including products/services names but do not write {Business} in your prompt. \n",
    "ENSURE to include only ONE/TWO products/services in one prompt. \n",
    "Generate {number_of_prompts} best prompts for DALL-E 3 based on the business description and write it such that the image generated does not have any word written in it.\n",
    "BUSINESS NAME:{Business}\n",
    "BUSINESS CATEGORY:{business_category}\n",
    "DESCRIPTION of the BUSINESS:\n",
    "{Description}\n",
    "output format : json with a key -> prompts, having a list of prompts -> [prompt1, prompt2, .. till {number_of_prompts}]\n",
    "'''\n",
    "# this is a completely different prompt for this functions but any prompt will work this is just for demonstration\n",
    "\n",
    "# but this line is very much important in the final meta_prompt too\n",
    "# output format : json with a key -> prompts, having a list of prompts -> [prompt1, prompt2, .. till {number_of_prompts}]\n"
   ]
  },
  {
   "cell_type": "code",
   "execution_count": 14,
   "metadata": {},
   "outputs": [],
   "source": [
    "# sample input\n",
    "Business = \"Nirav Enterprises\"\n",
    "business_category = \"Retail\"\n",
    "Description = \"🥳  Party planning got you stressed?  🤯  Don't worry, Nirav Enterprises in Ghatkopar West has you covered! 🎉  From dazzling decorations to yummy party supplies, we've got everything to make your next event unforgettable! 🥂  Call us at 1234567890 for the best deals in town!  🤩 \""
   ]
  },
  {
   "cell_type": "code",
   "execution_count": 15,
   "metadata": {},
   "outputs": [],
   "source": [
    "prompts = f.suggest_AI_img_prompt_for_profile_gallery(\n",
    "    business_image_gallery_prompt,\n",
    "    number_of_prompts=3,\n",
    "    Business=Business,\n",
    "    business_category=business_category,\n",
    "    Description=Description\n",
    ")"
   ]
  },
  {
   "cell_type": "code",
   "execution_count": 16,
   "metadata": {},
   "outputs": [
    {
     "data": {
      "text/plain": [
       "[\"A table filled with colorful balloons, party hats, and streamers, with a backdrop of a giant 'Happy Birthday' banner.\",\n",
       " 'A person holding a large plate piled high with a variety of delicious, decorated cupcakes, surrounded by colorful party favors.',\n",
       " 'A close-up shot of a beautifully decorated birthday cake with candles, surrounded by sparkling confetti and party streamers.']"
      ]
     },
     "execution_count": 16,
     "metadata": {},
     "output_type": "execute_result"
    }
   ],
   "source": [
    "prompts"
   ]
  },
  {
   "cell_type": "code",
   "execution_count": 17,
   "metadata": {},
   "outputs": [
    {
     "data": {
      "text/plain": [
       "\"A table filled with colorful balloons, party hats, and streamers, with a backdrop of a giant 'Happy Birthday' banner.\""
      ]
     },
     "execution_count": 17,
     "metadata": {},
     "output_type": "execute_result"
    }
   ],
   "source": [
    "prompts[0]\n",
    "# if prompts[0] is 'No prompt generated' then call the function again \n",
    "# so in the final designed pipelines we will have a loop to check if the prompt is generated or not then only we will move forward"
   ]
  },
  {
   "cell_type": "markdown",
   "metadata": {},
   "source": [
    "# suggest_AI_img_prompt_for_post"
   ]
  },
  {
   "cell_type": "code",
   "execution_count": 18,
   "metadata": {},
   "outputs": [],
   "source": [
    "post_image_prompt = '''\n",
    "You are a image generation prompt writer from a given description. \n",
    "The prompt will be then given to a DALL-E model to generate an image of some product/service offered by that business. \n",
    "Describe everything that you want to be in the image including products/services names but do not write {Business} in your prompt. \n",
    "ENSURE to include only ONE/TWO products/services in one prompt. \n",
    "Generate a single prompt for DALL-E 3 based on the business description and write it such that the image generated does not have any word written in it.\n",
    "BUSINESS NAME:{Business}\n",
    "BUSINESS CATEGORY:{business_category}\n",
    "DESCRIPTION of the BUSINESS:\n",
    "{Description}\n",
    "'''\n",
    "# just for demonstration"
   ]
  },
  {
   "cell_type": "code",
   "execution_count": 19,
   "metadata": {},
   "outputs": [],
   "source": [
    "# sample input\n",
    "Business = \"Nirav Enterprises\"\n",
    "business_category = \"Retail\"\n",
    "Description = \"🥳  Party planning got you stressed?  🤯  Don't worry, Nirav Enterprises in Ghatkopar West has you covered! 🎉  From dazzling decorations to yummy party supplies, we've got everything to make your next event unforgettable! 🥂  Call us at 1234567890 for the best deals in town!  🤩 \""
   ]
  },
  {
   "cell_type": "code",
   "execution_count": 20,
   "metadata": {},
   "outputs": [
    {
     "name": "stdout",
     "output_type": "stream",
     "text": [
      "A table filled with vibrant party decorations, including colorful balloons, streamers, and festive banners. A plate of delicious party snacks, such as chips, dips, and cookies, are also on the table.  \n",
      "\n"
     ]
    }
   ],
   "source": [
    "prompt = f.suggest_AI_img_prompt_for_post(\n",
    "    post_image_prompt,\n",
    "    Business=Business,\n",
    "    business_category=business_category,\n",
    "    Description=Description\n",
    ")\n",
    "print(prompt)"
   ]
  },
  {
   "cell_type": "markdown",
   "metadata": {},
   "source": [
    "# enhance_profile_gallery_with_AI\n",
    "# enhance_profile_logo_with_AI\n",
    "# enhance_post_img_with_AI\n",
    "all 3 are same just different prompts for all 3"
   ]
  },
  {
   "cell_type": "code",
   "execution_count": null,
   "metadata": {},
   "outputs": [],
   "source": [
    "# this will not work for now but after GCP authentication it will work\n",
    "img_path = 'sample.jpg'\n",
    "post_image_prompt = \"A vibrant and colorful table setting for a party with balloons, streamers, and confetti, featuring a selection of brightly colored plates, cups, and napkins. \"\n",
    "f.enhance_post_img_with_AI(post_image_prompt, img_path)\n",
    "# image will be in the same folder with the name 'sample.jpg'"
   ]
  },
  {
   "cell_type": "markdown",
   "metadata": {},
   "source": [
    "#"
   ]
  }
 ],
 "metadata": {
  "kernelspec": {
   "display_name": "Python 3",
   "language": "python",
   "name": "python3"
  },
  "language_info": {
   "codemirror_mode": {
    "name": "ipython",
    "version": 3
   },
   "file_extension": ".py",
   "mimetype": "text/x-python",
   "name": "python",
   "nbconvert_exporter": "python",
   "pygments_lexer": "ipython3",
   "version": "3.10.12"
  }
 },
 "nbformat": 4,
 "nbformat_minor": 2
}
